{
  "metadata": {
    "kernelspec": {
      "display_name": "Python 3",
      "language": "python",
      "name": "python3"
    },
    "creator": "admin",
    "createdOn": 1732067138123,
    "tags": [],
    "customFields": {},
    "dkuGit": {
      "gitReference": {
        "remote": "git@github.com:mattsco/notebooks.git",
        "checkout": "refs/heads/main",
        "remotePath": "new notbook.ipynb",
        "isDirty": false,
        "lastHash": "d6ea10f8bd996ce50088fb57d410b5fe7334ebf3",
        "lastTimestamp": 1732067165000
      },
      "lastInteraction": 1732067168464
    }
  },
  "nbformat": 4,
  "nbformat_minor": 0,
  "cells": [
    {
      "execution_count": 0,
      "cell_type": "code",
      "metadata": {},
      "source": [
        "%pylab inline"
      ],
      "outputs": []
    },
    {
      "execution_count": 0,
      "cell_type": "code",
      "metadata": {},
      "source": [
        "import dataiku\nfrom dataiku import pandasutils as pdu\nimport pandas as pd"
      ],
      "outputs": []
    },
    {
      "execution_count": 0,
      "cell_type": "code",
      "metadata": {},
      "source": [
        "# Example: load a DSS dataset as a Pandas dataframe\nmydataset \u003d dataiku.Dataset(\"mydataset\")\nmydataset_df \u003d mydataset.get_dataframe()"
      ],
      "outputs": []
    },
    {
      "execution_count": 0,
      "cell_type": "code",
      "metadata": {},
      "source": [],
      "outputs": []
    }
  ]
}